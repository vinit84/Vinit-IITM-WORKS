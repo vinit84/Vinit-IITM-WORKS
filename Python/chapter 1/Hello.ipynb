{
  "cells": [
    {
      "cell_type": "markdown",
      "metadata": {
        "colab_type": "text",
        "id": "view-in-github"
      },
      "source": [
        "<a href=\"https://colab.research.google.com/github/vinit84/Vinit-IITM-WORKS/blob/main/Python/chapter%201/Hello.ipynb\" target=\"_parent\"><img src=\"https://colab.research.google.com/assets/colab-badge.svg\" alt=\"Open In Colab\"/></a>"
      ]
    },
    {
      "cell_type": "markdown",
      "metadata": {
        "id": "hzoZP3Jl_9LS"
      },
      "source": [
        "# hello.py\n"
      ]
    },
    {
      "cell_type": "code",
      "execution_count": 3,
      "metadata": {
        "colab": {
          "base_uri": "https://localhost:8080/"
        },
        "id": "KUGjUlIbAYHZ",
        "outputId": "d4769ee1-bb8b-44f6-f840-a234dbbda85a"
      },
      "outputs": [
        {
          "name": "stdout",
          "output_type": "stream",
          "text": [
            "Enter your name :-Vinit Upadhyay\n",
            "vinit upadhyay\n"
          ]
        }
      ],
      "source": [
        "# Author: Vinit\n",
        "\n",
        "a = str(input(\"Enter your name :-\"))\n",
        "print(str(a.lower()))"
      ]
    }
  ],
  "metadata": {
    "colab": {
      "authorship_tag": "ABX9TyMp8V+/1gi3r4ebg3wwIkgJ",
      "include_colab_link": true,
      "name": "Hello.ipynb",
      "provenance": [],
      "toc_visible": true
    },
    "kernelspec": {
      "display_name": "Python 3.10.2 64-bit",
      "language": "python",
      "name": "python3"
    },
    "language_info": {
      "name": "python",
      "version": "3.10.2"
    },
    "vscode": {
      "interpreter": {
        "hash": "7073d6bcd2e0447b7ae67d631a950e9041325edce07c34c002d77887e419b83f"
      }
    }
  },
  "nbformat": 4,
  "nbformat_minor": 0
}
