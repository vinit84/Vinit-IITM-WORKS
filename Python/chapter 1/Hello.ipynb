{
  "nbformat": 4,
  "nbformat_minor": 0,
  "metadata": {
    "colab": {
      "name": "Hello.ipynb",
      "provenance": [],
      "toc_visible": true,
      "authorship_tag": "ABX9TyMp8V+/1gi3r4ebg3wwIkgJ",
      "include_colab_link": true
    },
    "kernelspec": {
      "name": "python3",
      "display_name": "Python 3"
    },
    "language_info": {
      "name": "python"
    }
  },
  "cells": [
    {
      "cell_type": "markdown",
      "metadata": {
        "id": "view-in-github",
        "colab_type": "text"
      },
      "source": [
        "<a href=\"https://colab.research.google.com/github/vinit84/Vinit-IITM-WORKS/blob/main/Python/chapter%201/Hello.ipynb\" target=\"_parent\"><img src=\"https://colab.research.google.com/assets/colab-badge.svg\" alt=\"Open In Colab\"/></a>"
      ]
    },
    {
      "cell_type": "markdown",
      "source": [
        "# hello.py\n"
      ],
      "metadata": {
        "id": "hzoZP3Jl_9LS"
      }
    },
    {
      "cell_type": "code",
      "source": [
        "# Author: Vinit\n",
        "\n",
        "a = str(input(\"Enter your name :-\"))\n",
        "print(str(a.lower()))"
      ],
      "metadata": {
        "colab": {
          "base_uri": "https://localhost:8080/"
        },
        "id": "KUGjUlIbAYHZ",
        "outputId": "d4769ee1-bb8b-44f6-f840-a234dbbda85a"
      },
      "execution_count": 3,
      "outputs": [
        {
          "output_type": "stream",
          "name": "stdout",
          "text": [
            "Enter your name :-Vinit Upadhyay\n",
            "vinit upadhyay\n"
          ]
        }
      ]
    }
  ]
}